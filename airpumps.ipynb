{
 "cells": [
  {
   "cell_type": "markdown",
   "id": "b2fdcc48-9a45-446d-961b-8b90aa13977e",
   "metadata": {},
   "source": [
    "# Intro"
   ]
  },
  {
   "cell_type": "markdown",
   "id": "8be08ccd-3de6-48ae-a09e-3ee2d2768d3c",
   "metadata": {},
   "source": [
    "In this project, we aim to predict air pump failures during machine cycles based on known air pressure patterns. \n",
    "For the task I used a model of Decision Tree Classifier (classifier because we are predicting whether a specific event is likely to occur or not). "
   ]
  },
  {
   "cell_type": "markdown",
   "id": "d2c8a5e8-8946-4e9c-b981-b55d272bbda6",
   "metadata": {},
   "source": [
    "The following reasons:\n",
    "* Not that hard to understand.\n",
    "* The ability to handle categorical and numerical features.\n",
    "* Does not require scaling or normalization.\n",
    "* On the other hand even small change in datasets can problems.\n"
   ]
  },
  {
   "cell_type": "code",
   "execution_count": 1,
   "id": "7a83c9e2-0691-4a13-b6c0-33352948d8e0",
   "metadata": {},
   "outputs": [],
   "source": [
    "import pandas as pd"
   ]
  },
  {
   "cell_type": "code",
   "execution_count": 2,
   "id": "e229ee4f-75cd-4804-aa8e-6d1724877e9d",
   "metadata": {},
   "outputs": [],
   "source": [
    "df=pd.read_csv('data/labels.csv')"
   ]
  },
  {
   "cell_type": "code",
   "execution_count": 3,
   "id": "3f18144a-3be9-4d19-aad3-c3032d30ad34",
   "metadata": {},
   "outputs": [
    {
     "name": "stdout",
     "output_type": "stream",
     "text": [
      "<class 'pandas.core.frame.DataFrame'>\n",
      "RangeIndex: 27385 entries, 0 to 27384\n",
      "Data columns (total 5 columns):\n",
      " #   Column         Non-Null Count  Dtype \n",
      "---  ------         --------------  ----- \n",
      " 0   MachineId      27385 non-null  object\n",
      " 1   MeasurementId  27385 non-null  int64 \n",
      " 2   PumpFailed     26900 non-null  object\n",
      " 3   SlowStart      19300 non-null  object\n",
      " 4   SlowEnd        19300 non-null  object\n",
      "dtypes: int64(1), object(4)\n",
      "memory usage: 1.0+ MB\n"
     ]
    }
   ],
   "source": [
    "df.info()"
   ]
  },
  {
   "cell_type": "code",
   "execution_count": 4,
   "id": "d78c58c8-2e58-483d-bc3b-c53c515fc846",
   "metadata": {},
   "outputs": [],
   "source": [
    "data = pd.read_parquet('data/data.parquet')"
   ]
  },
  {
   "cell_type": "code",
   "execution_count": 6,
   "id": "c25903e0-e771-4305-b3d4-9bfe421a1b2b",
   "metadata": {},
   "outputs": [],
   "source": [
    "merged_data = pd.merge(data, df, on=['MachineId', 'MeasurementId'])"
   ]
  },
  {
   "cell_type": "code",
   "execution_count": 7,
   "id": "f20fd779-febc-4d20-81dc-ff8e2c454809",
   "metadata": {},
   "outputs": [
    {
     "data": {
      "text/html": [
       "<div>\n",
       "<style scoped>\n",
       "    .dataframe tbody tr th:only-of-type {\n",
       "        vertical-align: middle;\n",
       "    }\n",
       "\n",
       "    .dataframe tbody tr th {\n",
       "        vertical-align: top;\n",
       "    }\n",
       "\n",
       "    .dataframe thead th {\n",
       "        text-align: right;\n",
       "    }\n",
       "</style>\n",
       "<table border=\"1\" class=\"dataframe\">\n",
       "  <thead>\n",
       "    <tr style=\"text-align: right;\">\n",
       "      <th></th>\n",
       "      <th>MachineId</th>\n",
       "      <th>MeasurementId</th>\n",
       "      <th>Pressure</th>\n",
       "      <th>PumpFailed</th>\n",
       "      <th>SlowStart</th>\n",
       "      <th>SlowEnd</th>\n",
       "    </tr>\n",
       "  </thead>\n",
       "  <tbody>\n",
       "    <tr>\n",
       "      <th>0</th>\n",
       "      <td>0_0_0</td>\n",
       "      <td>0</td>\n",
       "      <td>0.0</td>\n",
       "      <td>False</td>\n",
       "      <td>False</td>\n",
       "      <td>False</td>\n",
       "    </tr>\n",
       "    <tr>\n",
       "      <th>1</th>\n",
       "      <td>0_0_0</td>\n",
       "      <td>0</td>\n",
       "      <td>0.0</td>\n",
       "      <td>False</td>\n",
       "      <td>False</td>\n",
       "      <td>False</td>\n",
       "    </tr>\n",
       "    <tr>\n",
       "      <th>2</th>\n",
       "      <td>0_0_0</td>\n",
       "      <td>0</td>\n",
       "      <td>0.0</td>\n",
       "      <td>False</td>\n",
       "      <td>False</td>\n",
       "      <td>False</td>\n",
       "    </tr>\n",
       "    <tr>\n",
       "      <th>3</th>\n",
       "      <td>0_0_0</td>\n",
       "      <td>0</td>\n",
       "      <td>0.0</td>\n",
       "      <td>False</td>\n",
       "      <td>False</td>\n",
       "      <td>False</td>\n",
       "    </tr>\n",
       "    <tr>\n",
       "      <th>4</th>\n",
       "      <td>0_0_0</td>\n",
       "      <td>0</td>\n",
       "      <td>0.0</td>\n",
       "      <td>False</td>\n",
       "      <td>False</td>\n",
       "      <td>False</td>\n",
       "    </tr>\n",
       "  </tbody>\n",
       "</table>\n",
       "</div>"
      ],
      "text/plain": [
       "  MachineId  MeasurementId  Pressure PumpFailed SlowStart SlowEnd\n",
       "0     0_0_0              0       0.0      False     False   False\n",
       "1     0_0_0              0       0.0      False     False   False\n",
       "2     0_0_0              0       0.0      False     False   False\n",
       "3     0_0_0              0       0.0      False     False   False\n",
       "4     0_0_0              0       0.0      False     False   False"
      ]
     },
     "execution_count": 7,
     "metadata": {},
     "output_type": "execute_result"
    }
   ],
   "source": [
    "merged_data.head()"
   ]
  },
  {
   "cell_type": "markdown",
   "id": "6074dac4-dd62-48ec-ae76-2ade64cbacea",
   "metadata": {},
   "source": [
    "Deleting NAN\n",
    "\n",
    "Maybe not a perfect idea, rather exchange it with mean.\n",
    "\n",
    "Doing it after the partitioning is also possible, maybe better."
   ]
  },
  {
   "cell_type": "code",
   "execution_count": 8,
   "id": "b4f30626-1d21-4118-8173-eeaa68701ded",
   "metadata": {},
   "outputs": [],
   "source": [
    "merged_data=merged_data.dropna()"
   ]
  },
  {
   "cell_type": "code",
   "execution_count": 9,
   "id": "317e4497-a746-47ae-b81e-2ebba0bf53cf",
   "metadata": {},
   "outputs": [],
   "source": [
    "# Importing libraries\n",
    "from sklearn.model_selection import train_test_split\n",
    "from sklearn.tree import DecisionTreeClassifier\n",
    "from sklearn.metrics import accuracy_score, classification_report, confusion_matrix\n",
    "from sklearn.tree import plot_tree\n",
    "import matplotlib.pyplot as plt\n",
    "\n",
    "# Separate merged data into features (X) and labels (y)\n",
    "X = merged_data[['MachineId', 'Pressure']]\n",
    "y = merged_data['PumpFailed']\n",
    "\n",
    "# Spliting the data into training and testing sets (I am not using validation set)\n",
    "X_train, X_test, y_train, y_test = train_test_split(X, y, test_size=0.4, random_state=333)"
   ]
  },
  {
   "cell_type": "code",
   "execution_count": 10,
   "id": "003fba5f-0fe7-4e79-93d8-297203fd67b7",
   "metadata": {},
   "outputs": [
    {
     "name": "stdout",
     "output_type": "stream",
     "text": [
      "Accuracy: 0.89\n"
     ]
    }
   ],
   "source": [
    "# I encoded the data to better align with the preferences and requirements of the model.\n",
    "from sklearn.preprocessing import LabelEncoder\n",
    "\n",
    "label_encoder = LabelEncoder()\n",
    "y_train_encoded = label_encoder.fit_transform(y_train)\n",
    "y_test_encoded = label_encoder.transform(y_test)\n",
    "\n",
    "# Initialize the Decision Tree model\n",
    "model = DecisionTreeClassifier(random_state=42)\n",
    "\n",
    "# Train the model\n",
    "model.fit(X_train, y_train_encoded)\n",
    "\n",
    "# Make predictions on the test set\n",
    "y_pred = model.predict(X_test)\n",
    "\n",
    "# Calculate accuracy\n",
    "accuracy = accuracy_score(y_test_encoded, y_pred)\n",
    "print(f\"Accuracy: {accuracy:.2f}\")"
   ]
  },
  {
   "cell_type": "markdown",
   "id": "b5682272-0e19-413f-be0a-fc324876103a",
   "metadata": {},
   "source": [
    "An accuracy of 89% means that the model is performing pretty well on the test data. It has correctly predicted the pump failure or non-failure for approximately 89% of the instances in the test set."
   ]
  },
  {
   "cell_type": "code",
   "execution_count": 11,
   "id": "73097250-b0e5-4d57-91bf-a9386bbeccab",
   "metadata": {},
   "outputs": [
    {
     "data": {
      "text/plain": [
       "{'ccp_alpha': 0.0,\n",
       " 'class_weight': None,\n",
       " 'criterion': 'gini',\n",
       " 'max_depth': None,\n",
       " 'max_features': None,\n",
       " 'max_leaf_nodes': None,\n",
       " 'min_impurity_decrease': 0.0,\n",
       " 'min_samples_leaf': 1,\n",
       " 'min_samples_split': 2,\n",
       " 'min_weight_fraction_leaf': 0.0,\n",
       " 'random_state': 42,\n",
       " 'splitter': 'best'}"
      ]
     },
     "execution_count": 11,
     "metadata": {},
     "output_type": "execute_result"
    }
   ],
   "source": [
    "model.get_params()"
   ]
  },
  {
   "cell_type": "markdown",
   "id": "5073ab24-e061-4bb1-8066-69f749b73ee1",
   "metadata": {},
   "source": [
    "Tuning hyperparameters such as *criterion* or *max_depth* is definitely a crucial part. However, the accuracy we achieved suggests that the model is doing overall well."
   ]
  },
  {
   "cell_type": "code",
   "execution_count": null,
   "id": "15b62c0f-7d76-4050-a1fb-5ca5d4404844",
   "metadata": {},
   "outputs": [],
   "source": []
  }
 ],
 "metadata": {
  "kernelspec": {
   "display_name": "Python 3 (ipykernel)",
   "language": "python",
   "name": "python3"
  },
  "language_info": {
   "codemirror_mode": {
    "name": "ipython",
    "version": 3
   },
   "file_extension": ".py",
   "mimetype": "text/x-python",
   "name": "python",
   "nbconvert_exporter": "python",
   "pygments_lexer": "ipython3",
   "version": "3.10.1"
  }
 },
 "nbformat": 4,
 "nbformat_minor": 5
}
